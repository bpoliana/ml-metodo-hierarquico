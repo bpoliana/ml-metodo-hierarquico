{
 "cells": [
  {
   "cell_type": "markdown",
   "metadata": {},
   "source": [
    "\n",
    "## Calcula Resultados - Pela Saída"
   ]
  },
  {
   "cell_type": "code",
   "execution_count": 3,
   "metadata": {},
   "outputs": [],
   "source": [
    "end_saidas_alunos = \"../resultados/movies_2020/rodada_2\"\n",
    "end_ground_truth = \"datasets/movies_amostra_teste_2_y.csv\"\n",
    "end_saida_obtida = \"../resultados/movies_2020/rodada_2_result_obtido\"\n",
    "saida_erros_resultado = \"../resultados/movies_2020/saida_result_obtido_rodada2.txt\"\n",
    "end_arquivo_solucoes = \"../resultados/movies_2020/rodada_2_solucoes.zip\""
   ]
  },
  {
   "cell_type": "code",
   "execution_count": 6,
   "metadata": {},
   "outputs": [
    {
     "data": {
      "text/plain": [
       "0       Comedy\n",
       "1       Comedy\n",
       "2       Comedy\n",
       "3       Action\n",
       "4       Comedy\n",
       "         ...  \n",
       "4995    Comedy\n",
       "4996    Comedy\n",
       "4997    Action\n",
       "4998    Comedy\n",
       "4999    Comedy\n",
       "Name: genero, Length: 5000, dtype: object"
      ]
     },
     "execution_count": 6,
     "metadata": {},
     "output_type": "execute_result"
    }
   ],
   "source": [
    "import pandas as pd\n",
    "y_to_predict = pd.read_csv(end_ground_truth)[\"genero\"]\n",
    "y_to_predict"
   ]
  },
  {
   "cell_type": "code",
   "execution_count": 7,
   "metadata": {},
   "outputs": [],
   "source": [
    "\n",
    "def read_result(filename):\n",
    "    arr_result = []\n",
    "    with open(filename) as f:\n",
    "        arr_result = [r.capitalize()[:-1] for r in f]\n",
    "    return arr_result\n",
    "\n",
    "def class_to_number(y, dic_nom_classe_to_int=None):\n",
    "    if dic_nom_classe_to_int is None:\n",
    "        dic_nom_classe_to_int = {}\n",
    "    dic_int_to_nom_classe = {}\n",
    "    arr_int_y = []\n",
    "\n",
    "    #mapeia cada classe para um número\n",
    "    for rotulo_classe in y:\n",
    "        #cria um número para esse rotulo de classe, caso não exista ainda\n",
    "        if rotulo_classe not in dic_nom_classe_to_int:\n",
    "            int_new_val_classe = len(dic_nom_classe_to_int.keys())\n",
    "            dic_nom_classe_to_int[rotulo_classe] = int_new_val_classe\n",
    "            dic_int_to_nom_classe[int_new_val_classe] = rotulo_classe\n",
    "\n",
    "        #adiciona esse item\n",
    "        arr_int_y.append(dic_nom_classe_to_int[rotulo_classe])\n",
    "\n",
    "    return arr_int_y, dic_nom_classe_to_int, dic_int_to_nom_classe"
   ]
  },
  {
   "cell_type": "code",
   "execution_count": 8,
   "metadata": {},
   "outputs": [
    {
     "data": {
      "text/plain": [
       "[0, 0, 0, 1, 0, 1, 1, 0, 0, 1]"
      ]
     },
     "execution_count": 8,
     "metadata": {},
     "output_type": "execute_result"
    }
   ],
   "source": [
    "arr_int_y, dic_nom_classe_to_int, dic_int_to_nom_classe = class_to_number(y_to_predict)\n",
    "arr_int_y[:10]"
   ]
  },
  {
   "cell_type": "code",
   "execution_count": 9,
   "metadata": {},
   "outputs": [
    {
     "data": {
      "text/plain": [
       "5000"
      ]
     },
     "execution_count": 9,
     "metadata": {},
     "output_type": "execute_result"
    }
   ],
   "source": [
    "result = read_result(f\"{end_saidas_alunos}/Indra Matsiendra Cardoso Dias Ribeiro_152871_assignsubmission_file_/predict_grupo_18.txt\")\n",
    "len(result)"
   ]
  },
  {
   "cell_type": "code",
   "execution_count": 10,
   "metadata": {},
   "outputs": [
    {
     "data": {
      "text/plain": [
       "'aaaA'"
      ]
     },
     "execution_count": 10,
     "metadata": {},
     "output_type": "execute_result"
    }
   ],
   "source": [
    "\"aaaA\""
   ]
  },
  {
   "cell_type": "code",
   "execution_count": 11,
   "metadata": {},
   "outputs": [
    {
     "name": "stdout",
     "output_type": "stream",
     "text": [
      "ok\n",
      "Nome aluno: Eduardo Martins Gomes Pereira\n",
      "Nome aluno: Eduardo Martins Gomes Pereira grupo: 13 macrof1: 0.6841160731324074\n",
      "ok\n",
      "Nome aluno: Diego Santos Goncalves\n",
      "Nome aluno: Diego Santos Goncalves grupo: 4 macrof1: 0.7718845908657659\n",
      "ok\n",
      "Nome aluno: Marcus Vinicius Duraes Zuba\n",
      "Nome aluno: Marcus Vinicius Duraes Zuba grupo: 13 macrof1: 0.6841160731324074\n",
      "ok\n",
      "Nome aluno: Felipe Martins Lemos de Morais\n",
      "Nome aluno: Felipe Martins Lemos de Morais grupo: 14 macrof1: 0.5258372678615567\n",
      "ok\n",
      "Nome aluno: Amanda Jacomette Dias Barbosa\n",
      "Nome aluno: Amanda Jacomette Dias Barbosa grupo: 18 macrof1: 0.7641753373228122\n",
      "ok\n",
      "Nome aluno: Ramon Griffo Costa\n",
      "Nome aluno: Ramon Griffo Costa grupo: 9 macrof1: 0.7870297095622834\n",
      "ok\n",
      "Nome aluno: Arthur Lopes Sabioni\n",
      "Nome aluno: Arthur Lopes Sabioni grupo: 12 macrof1: 0.708228898456424\n",
      "ok\n",
      "Nome aluno: Diêgo Simões Maria\n",
      "Nome aluno: Diêgo Simões Maria grupo: 12 macrof1: 0.708228898456424\n",
      "ok\n",
      "Nome aluno: Guilherme Moreira de Carvalho\n",
      "Nome aluno: Guilherme Moreira de Carvalho grupo: 20 macrof1: 0.7633345904486579\n",
      "ok\n",
      "Nome aluno: Indra Matsiendra Cardoso Dias Ribeiro\n",
      "Nome aluno: Indra Matsiendra Cardoso Dias Ribeiro grupo: 18 macrof1: 0.7641753373228122\n",
      "ok\n",
      "Nome aluno: Pedro Matheus Simões Ferreira\n",
      "Nome aluno: Pedro Matheus Simões Ferreira grupo: 21 macrof1: 0.6560101963912526\n",
      "ok\n",
      "Nome aluno: Arthur Carvalho Guerra\n",
      "Nome aluno: Arthur Carvalho Guerra grupo: 11 macrof1: 0.6848819883046201\n",
      "ok\n",
      "Nome aluno: Marina Bernardes Diniz\n",
      "Nome aluno: Marina Bernardes Diniz grupo: 19 macrof1: 0.6848819883046201\n",
      "ok\n",
      "Nome aluno: Daniel Henrique Lelis de Almeida\n",
      "Nome aluno: Daniel Henrique Lelis de Almeida grupo: 11 macrof1: 0.7749087896009703\n",
      "ok\n",
      "Nome aluno: Rubio Torres Castro Viana\n",
      "Nome aluno: Rubio Torres Castro Viana grupo: 22 macrof1: 0.6130137179825612\n"
     ]
    }
   ],
   "source": [
    "import os\n",
    "from base_am.resultado import Resultado\n",
    "from sklearn.metrics import classification_report\n",
    "\n",
    "def valida_result(arr_result, tam_teste):\n",
    "    if(len(arr_result) != tam_teste):\n",
    "        return \"O arquivo de resultado deveria possuir {tam_teste} instancias, possui {len(arr_result)}\"\n",
    "    return None\n",
    "#navega em cada subdiretorio e obtem o arquivo\n",
    "dados = {}\n",
    "for nom_classe in dic_nom_classe_to_int.keys():\n",
    "    dados[f\"precisao_{nom_classe}\"] = []\n",
    "    dados[f\"revocacao_{nom_classe}\"] = []\n",
    "dados[\"macro_f1\"] = []\n",
    "dados[\"nome\"] = []\n",
    "dados[\"grupo\"] = []\n",
    "dic_resultado_por_aluno = {}\n",
    "for root, dirs, files in os.walk(end_saidas_alunos):\n",
    "    for filename in files:\n",
    "        \n",
    "        if not filename.startswith(\"predict_grupo\"):\n",
    "            continue\n",
    "        print(\"ok\")\n",
    "        nom_aluno = root.split(\"/\")[-1].split(\"_\")[0]\n",
    "        num_grupo = int(filename[:-4].split(\"_\")[-1])\n",
    "        complete_file = root+\"/\"+filename\n",
    "        dic_resultado_por_aluno[num_grupo] = complete_file\n",
    "        print(f\"Nome aluno: {nom_aluno}\")\n",
    "        arr_result,_,_ = class_to_number(read_result(complete_file),dic_nom_classe_to_int) \n",
    "        tam_teste = len(y_to_predict)\n",
    "        str_erro = valida_result(arr_result, tam_teste)\n",
    "        str_macro = \"-\"\n",
    "        if not str_erro:\n",
    "            #print(f\"ground truth: {arr_int_y[:10]} Resultado previsto: {arr_result[:10]} \")\n",
    "            #print(classification_report(arr_int_y, arr_result))\n",
    "            result = Resultado(arr_int_y, arr_result)\n",
    "            dados[\"macro_f1\"].append(result.macro_f1)\n",
    "            str_macro = result.macro_f1\n",
    "        else:\n",
    "            dados[\"macro_f1\"].append(0)\n",
    "        for nom_classe,int_val in dic_nom_classe_to_int.items():\n",
    "            if not str_erro:\n",
    "                dados[f\"precisao_{nom_classe}\"].append(result.precisao[int_val])\n",
    "                dados[f\"revocacao_{nom_classe}\"].append(result.revocacao[int_val])\n",
    "            else:\n",
    "                dados[f\"precisao_{nom_classe}\"].append(\"-\")\n",
    "                dados[f\"revocacao_{nom_classe}\"].append(\"-\")\n",
    "                \n",
    "        \n",
    "        dados[\"nome\"].append(nom_aluno)\n",
    "        dados[\"grupo\"].append(num_grupo)\n",
    "        print(f\"Nome aluno: {nom_aluno} grupo: {num_grupo} macrof1: {result.macro_f1}\")\n",
    "df_ranking = pd.DataFrame.from_dict(dados)\n",
    "df_ranking = df_ranking.sort_values(\"macro_f1\",ascending=False)\n",
    "df_ranking.to_csv(\"resultado_prim_rodada.csv\")"
   ]
  },
  {
   "cell_type": "code",
   "execution_count": null,
   "metadata": {},
   "outputs": [],
   "source": []
  },
  {
   "cell_type": "code",
   "execution_count": 12,
   "metadata": {},
   "outputs": [
    {
     "data": {
      "text/html": [
       "<div>\n",
       "<style scoped>\n",
       "    .dataframe tbody tr th:only-of-type {\n",
       "        vertical-align: middle;\n",
       "    }\n",
       "\n",
       "    .dataframe tbody tr th {\n",
       "        vertical-align: top;\n",
       "    }\n",
       "\n",
       "    .dataframe thead th {\n",
       "        text-align: right;\n",
       "    }\n",
       "</style>\n",
       "<table border=\"1\" class=\"dataframe\">\n",
       "  <thead>\n",
       "    <tr style=\"text-align: right;\">\n",
       "      <th></th>\n",
       "      <th>precisao_Comedy</th>\n",
       "      <th>revocacao_Comedy</th>\n",
       "      <th>precisao_Action</th>\n",
       "      <th>revocacao_Action</th>\n",
       "      <th>macro_f1</th>\n",
       "      <th>nome</th>\n",
       "      <th>grupo</th>\n",
       "    </tr>\n",
       "  </thead>\n",
       "  <tbody>\n",
       "    <tr>\n",
       "      <th>5</th>\n",
       "      <td>0.852497</td>\n",
       "      <td>0.875112</td>\n",
       "      <td>0.73072</td>\n",
       "      <td>0.691185</td>\n",
       "      <td>0.787030</td>\n",
       "      <td>Ramon Griffo Costa</td>\n",
       "      <td>9</td>\n",
       "    </tr>\n",
       "    <tr>\n",
       "      <th>13</th>\n",
       "      <td>0.824853</td>\n",
       "      <td>0.918033</td>\n",
       "      <td>0.78278</td>\n",
       "      <td>0.602432</td>\n",
       "      <td>0.774909</td>\n",
       "      <td>Daniel Henrique Lelis de Almeida</td>\n",
       "      <td>11</td>\n",
       "    </tr>\n",
       "    <tr>\n",
       "      <th>1</th>\n",
       "      <td>0.867047</td>\n",
       "      <td>0.816393</td>\n",
       "      <td>0.665399</td>\n",
       "      <td>0.744681</td>\n",
       "      <td>0.771885</td>\n",
       "      <td>Diego Santos Goncalves</td>\n",
       "      <td>4</td>\n",
       "    </tr>\n",
       "    <tr>\n",
       "      <th>4</th>\n",
       "      <td>0.835731</td>\n",
       "      <td>0.865872</td>\n",
       "      <td>0.704724</td>\n",
       "      <td>0.652888</td>\n",
       "      <td>0.764175</td>\n",
       "      <td>Amanda Jacomette Dias Barbosa</td>\n",
       "      <td>18</td>\n",
       "    </tr>\n",
       "    <tr>\n",
       "      <th>9</th>\n",
       "      <td>0.835731</td>\n",
       "      <td>0.865872</td>\n",
       "      <td>0.704724</td>\n",
       "      <td>0.652888</td>\n",
       "      <td>0.764175</td>\n",
       "      <td>Indra Matsiendra Cardoso Dias Ribeiro</td>\n",
       "      <td>18</td>\n",
       "    </tr>\n",
       "    <tr>\n",
       "      <th>8</th>\n",
       "      <td>0.813448</td>\n",
       "      <td>0.926677</td>\n",
       "      <td>0.791171</td>\n",
       "      <td>0.566565</td>\n",
       "      <td>0.763335</td>\n",
       "      <td>Guilherme Moreira de Carvalho</td>\n",
       "      <td>20</td>\n",
       "    </tr>\n",
       "    <tr>\n",
       "      <th>6</th>\n",
       "      <td>0.893133</td>\n",
       "      <td>0.655142</td>\n",
       "      <td>0.544309</td>\n",
       "      <td>0.840122</td>\n",
       "      <td>0.708229</td>\n",
       "      <td>Arthur Lopes Sabioni</td>\n",
       "      <td>12</td>\n",
       "    </tr>\n",
       "    <tr>\n",
       "      <th>7</th>\n",
       "      <td>0.893133</td>\n",
       "      <td>0.655142</td>\n",
       "      <td>0.544309</td>\n",
       "      <td>0.840122</td>\n",
       "      <td>0.708229</td>\n",
       "      <td>Diêgo Simões Maria</td>\n",
       "      <td>12</td>\n",
       "    </tr>\n",
       "    <tr>\n",
       "      <th>11</th>\n",
       "      <td>0.76171</td>\n",
       "      <td>0.945156</td>\n",
       "      <td>0.780167</td>\n",
       "      <td>0.39696</td>\n",
       "      <td>0.684882</td>\n",
       "      <td>Arthur Carvalho Guerra</td>\n",
       "      <td>11</td>\n",
       "    </tr>\n",
       "    <tr>\n",
       "      <th>0</th>\n",
       "      <td>0.760476</td>\n",
       "      <td>0.952012</td>\n",
       "      <td>0.79875</td>\n",
       "      <td>0.38845</td>\n",
       "      <td>0.684116</td>\n",
       "      <td>Eduardo Martins Gomes Pereira</td>\n",
       "      <td>13</td>\n",
       "    </tr>\n",
       "    <tr>\n",
       "      <th>2</th>\n",
       "      <td>0.760476</td>\n",
       "      <td>0.952012</td>\n",
       "      <td>0.79875</td>\n",
       "      <td>0.38845</td>\n",
       "      <td>0.684116</td>\n",
       "      <td>Marcus Vinicius Duraes Zuba</td>\n",
       "      <td>13</td>\n",
       "    </tr>\n",
       "    <tr>\n",
       "      <th>10</th>\n",
       "      <td>0.75422</td>\n",
       "      <td>0.878987</td>\n",
       "      <td>0.627523</td>\n",
       "      <td>0.415805</td>\n",
       "      <td>0.656010</td>\n",
       "      <td>Pedro Matheus Simões Ferreira</td>\n",
       "      <td>21</td>\n",
       "    </tr>\n",
       "    <tr>\n",
       "      <th>14</th>\n",
       "      <td>0.732211</td>\n",
       "      <td>0.855738</td>\n",
       "      <td>0.551437</td>\n",
       "      <td>0.361702</td>\n",
       "      <td>0.613014</td>\n",
       "      <td>Rubio Torres Castro Viana</td>\n",
       "      <td>22</td>\n",
       "    </tr>\n",
       "    <tr>\n",
       "      <th>3</th>\n",
       "      <td>0.698916</td>\n",
       "      <td>0.979732</td>\n",
       "      <td>0.771044</td>\n",
       "      <td>0.13921</td>\n",
       "      <td>0.525837</td>\n",
       "      <td>Felipe Martins Lemos de Morais</td>\n",
       "      <td>14</td>\n",
       "    </tr>\n",
       "    <tr>\n",
       "      <th>12</th>\n",
       "      <td>-</td>\n",
       "      <td>-</td>\n",
       "      <td>-</td>\n",
       "      <td>-</td>\n",
       "      <td>0.000000</td>\n",
       "      <td>Marina Bernardes Diniz</td>\n",
       "      <td>19</td>\n",
       "    </tr>\n",
       "  </tbody>\n",
       "</table>\n",
       "</div>"
      ],
      "text/plain": [
       "   precisao_Comedy revocacao_Comedy precisao_Action revocacao_Action  \\\n",
       "5         0.852497         0.875112         0.73072         0.691185   \n",
       "13        0.824853         0.918033         0.78278         0.602432   \n",
       "1         0.867047         0.816393        0.665399         0.744681   \n",
       "4         0.835731         0.865872        0.704724         0.652888   \n",
       "9         0.835731         0.865872        0.704724         0.652888   \n",
       "8         0.813448         0.926677        0.791171         0.566565   \n",
       "6         0.893133         0.655142        0.544309         0.840122   \n",
       "7         0.893133         0.655142        0.544309         0.840122   \n",
       "11         0.76171         0.945156        0.780167          0.39696   \n",
       "0         0.760476         0.952012         0.79875          0.38845   \n",
       "2         0.760476         0.952012         0.79875          0.38845   \n",
       "10         0.75422         0.878987        0.627523         0.415805   \n",
       "14        0.732211         0.855738        0.551437         0.361702   \n",
       "3         0.698916         0.979732        0.771044          0.13921   \n",
       "12               -                -               -                -   \n",
       "\n",
       "    macro_f1                                   nome  grupo  \n",
       "5   0.787030                     Ramon Griffo Costa      9  \n",
       "13  0.774909       Daniel Henrique Lelis de Almeida     11  \n",
       "1   0.771885                 Diego Santos Goncalves      4  \n",
       "4   0.764175          Amanda Jacomette Dias Barbosa     18  \n",
       "9   0.764175  Indra Matsiendra Cardoso Dias Ribeiro     18  \n",
       "8   0.763335          Guilherme Moreira de Carvalho     20  \n",
       "6   0.708229                   Arthur Lopes Sabioni     12  \n",
       "7   0.708229                     Diêgo Simões Maria     12  \n",
       "11  0.684882                 Arthur Carvalho Guerra     11  \n",
       "0   0.684116          Eduardo Martins Gomes Pereira     13  \n",
       "2   0.684116            Marcus Vinicius Duraes Zuba     13  \n",
       "10  0.656010          Pedro Matheus Simões Ferreira     21  \n",
       "14  0.613014              Rubio Torres Castro Viana     22  \n",
       "3   0.525837         Felipe Martins Lemos de Morais     14  \n",
       "12  0.000000                 Marina Bernardes Diniz     19  "
      ]
     },
     "execution_count": 12,
     "metadata": {},
     "output_type": "execute_result"
    }
   ],
   "source": [
    "df_ranking"
   ]
  },
  {
   "cell_type": "code",
   "execution_count": 13,
   "metadata": {},
   "outputs": [],
   "source": [
    "import json\n",
    "with open(f\"{end_saidas_alunos}/resultado_por_aluno.json\",\"w\") as resultado_alunos:\n",
    "    json.dump(dic_resultado_por_aluno, resultado_alunos)"
   ]
  },
  {
   "cell_type": "markdown",
   "metadata": {},
   "source": [
    "## Execução do programa de cada projeto"
   ]
  },
  {
   "cell_type": "code",
   "execution_count": 22,
   "metadata": {
    "scrolled": true
   },
   "outputs": [
    {
     "name": "stdout",
     "output_type": "stream",
     "text": [
      "ARQUIVO AQUI: ../resultados/movies_2020/rodada_2_solucoes.zip Salvo em: /tmp/6ff199b6-f292-11ea-868c-6036dd5e6b4f\n",
      "rodrigo gomes moreira da silva 8 /tmp/6ff199b6-f292-11ea-868c-6036dd5e6b4f/Rodrigo Gomes Moreira da Silva_grupo8_152207_assignsubmission_file_\n",
      "pedro matheus simoes ferreira 21 /tmp/6ff199b6-f292-11ea-868c-6036dd5e6b4f/Pedro Matheus Simões Ferreira_grupo21_156218_assignsubmission_file_\n",
      "guilherme moreira de carvalho 20 /tmp/6ff199b6-f292-11ea-868c-6036dd5e6b4f/Guilherme Moreira de Carvalho_grupo20_152194_assignsubmission_file_\n",
      "arthur carvalho guerra 10 /tmp/6ff199b6-f292-11ea-868c-6036dd5e6b4f/Arthur Carvalho Guerra_grupo10_152080_assignsubmission_file_\n",
      "amanda jacomette dias barbosa 18 /tmp/6ff199b6-f292-11ea-868c-6036dd5e6b4f/Amanda Jacomette Dias Barbosa_grupo18_156236_assignsubmission_file_\n",
      "Found dir: /tmp/competicao/6ff199b7-f292-11ea-868c-6036dd5e6b4f/competicao/amanda jacomette dias barbosa\n",
      "Found dir: /tmp/competicao/6ff199b7-f292-11ea-868c-6036dd5e6b4f/competicao/amanda jacomette dias barbosa/competicao1\n",
      "Found dir: /tmp/competicao/6ff199b7-f292-11ea-868c-6036dd5e6b4f/competicao/amanda jacomette dias barbosa/competicao1/competicao\n",
      "Found dir: /tmp/competicao/6ff199b7-f292-11ea-868c-6036dd5e6b4f/competicao/amanda jacomette dias barbosa/competicao1/competicao/.ipynb_checkpoints\n",
      "Found dir: /tmp/competicao/6ff199b7-f292-11ea-868c-6036dd5e6b4f/competicao/amanda jacomette dias barbosa/competicao1/competicao/datasets\n",
      "Found dir: /tmp/competicao/6ff199b7-f292-11ea-868c-6036dd5e6b4f/competicao/amanda jacomette dias barbosa/competicao1/competicao/resultados\n",
      "Found dir: /tmp/competicao/6ff199b7-f292-11ea-868c-6036dd5e6b4f/competicao/amanda jacomette dias barbosa/competicao1/competicao/base_am\n",
      "Found dir: /tmp/competicao/6ff199b7-f292-11ea-868c-6036dd5e6b4f/competicao/amanda jacomette dias barbosa/competicao1/competicao/base_am/__pycache__\n",
      "Found dir: /tmp/competicao/6ff199b7-f292-11ea-868c-6036dd5e6b4f/competicao/amanda jacomette dias barbosa/competicao1/competicao/imgs\n",
      "Found dir: /tmp/competicao/6ff199b7-f292-11ea-868c-6036dd5e6b4f/competicao/amanda jacomette dias barbosa/competicao1/competicao/competicao_am\n",
      "AAAACHOUUUUUU\n",
      "Resultado em: /tmp/competicao/6ff199b7-f292-11ea-868c-6036dd5e6b4f/competicao\n",
      "(b'', b'Traceback (most recent call last):\\n  File \"gera_resultado_av_teste.py\", line 2, in <module>\\n    from competicao_am.gerar_resultado_teste import gerar_saida_teste\\nModuleNotFoundError: No module named \\'competicao_am\\'\\n')\n",
      "COPY TO: ../resultados/movies_2020/rodada_2_result_obtido/predict_grupo_18.txt\n"
     ]
    }
   ],
   "source": [
    "#8, 13, 18, \n",
    "import os\n",
    "import subprocess\n",
    "import tempfile\n",
    "import uuid\n",
    "import json\n",
    "from moodle_helper import MoodleHandin\n",
    "str_endereco = end_arquivo_solucoes\n",
    "ja_processados = {4, 8,9,10,11,12,14,19,20,21,22}\n",
    "with open(str_endereco, \"rb\") as file_pointer:\n",
    "    moodle = MoodleHandin(file_pointer)\n",
    "    \n",
    "    temp_dir_uncompressed = tempfile.gettempdir()+\"/competicao/\"+str(uuid.uuid1())\n",
    "    os.makedirs(temp_dir_uncompressed)\n",
    "    \n",
    "    #print(moodle.dictPathPorAluno)\n",
    "    for aluno,path in moodle.dictPathPorAluno.items():\n",
    "        if not os.path.isdir(path):\n",
    "            continue\n",
    "        num_grupo = int(path.split(\"/\")[-1].split(\"_\")[1][5:])\n",
    "        print(f\"{aluno} {num_grupo} {path}\")\n",
    "        if num_grupo in ja_processados:\n",
    "            continue\n",
    "        #descompacta os arquivos do aluno\n",
    "        uncompressed_path = f\"{temp_dir_uncompressed}/competicao/{aluno}\"\n",
    "        os.makedirs(uncompressed_path)\n",
    "        \n",
    "        moodle.uncompressAlunoDir(aluno,uncompressed_path)\n",
    "        \n",
    "        \n",
    "        #procura o diretorio da competicao\n",
    "        competicao_dir = uncompressed_path\n",
    "        for dirName, subdirList, fileList in os.walk(uncompressed_path):\n",
    "            print(f\"Found dir: {dirName}\")\n",
    "            str_only_dir = dirName.split(\"/\")[-1]\n",
    "            if str_only_dir == \"competicao_am\":\n",
    "                    print(\"AAAACHOUUUUUU\")\n",
    "                    competicao_dir = \"/\".join(competicao_dir.split(\"/\")[:-1])\n",
    "                    break\n",
    "                        \n",
    "        #copia o codigo para gerar resultado\n",
    "        print(f\"Resultado em: {competicao_dir}\")\n",
    "        \n",
    "        process = subprocess.Popen(['cp', 'gera_resultado_av_teste.py',competicao_dir],\n",
    "                             stdout=subprocess.PIPE, \n",
    "                             stderr=subprocess.PIPE)\n",
    "        stdout, stderr = process.communicate()\n",
    "        \n",
    "        #gera o resultado de avaliação\n",
    "        process = subprocess.Popen(['python3', f'gera_resultado_av_teste.py'],\n",
    "                             stdout=subprocess.PIPE, \n",
    "                             stderr=subprocess.PIPE, cwd=competicao_dir)\n",
    "        stdout, stderr = process.communicate()\n",
    "        print((stdout, stderr,))\n",
    "        with open(f\"{end_saida_obtida}/saida_grupo_{num_grupo}.txt\",\"w\") as saida_grupo:\n",
    "            saida_grupo.write(str(stdout))\n",
    "            saida_grupo.write(\"\\n\\n----------------------------------------\\n\\n\")\n",
    "            saida_grupo.write(str(stderr))\n",
    "        \n",
    "        #compara o resultado por aluno com o resultado atual\n",
    "        str_resultado_obtido = f\"{competicao_dir}/predict_grupo_11223344.txt\"\n",
    "        print(f\"COPY TO: {end_saida_obtida}/predict_grupo_{num_grupo}.txt\")\n",
    "        process = subprocess.Popen(['cp', str_resultado_obtido,f\"{end_saida_obtida}/predict_grupo_{num_grupo}.txt\"],\n",
    "                             stdout=subprocess.PIPE, \n",
    "                             stderr=subprocess.PIPE)\n",
    "        stdout, stderr = process.communicate()\n",
    "        break\n",
    "\n"
   ]
  },
  {
   "cell_type": "code",
   "execution_count": 15,
   "metadata": {},
   "outputs": [
    {
     "data": {
      "text/plain": [
       "'/tmp/competicao/01bcd3df-f28d-11ea-868c-6036dd5e6b4f/competicao/amanda jacomette dias barbosa/competicao1/competicao'"
      ]
     },
     "execution_count": 15,
     "metadata": {},
     "output_type": "execute_result"
    }
   ],
   "source": []
  },
  {
   "cell_type": "markdown",
   "metadata": {},
   "source": [
    "## Comparação do resultado obtido"
   ]
  },
  {
   "cell_type": "code",
   "execution_count": 21,
   "metadata": {},
   "outputs": [],
   "source": [
    "def compare_result(num_grupo, str_file_result,str_resultado_obtido, file_saida):\n",
    "    with open(str_file_result,\"r\") as result_entrege, open(str_resultado_obtido,\"r\") as result_calculado:\n",
    "\n",
    "        line_entregue = result_entrege.readline()\n",
    "        line_calculado = result_calculado.readline()\n",
    "        empty_file = True\n",
    "        line_num = 1\n",
    "        arr_lines_diff = []\n",
    "        while line_entregue and line_calculado:\n",
    "            line_entregue = result_entrege.readline()\n",
    "            line_calculado = result_calculado.readline()\n",
    "            if line_entregue != line_calculado:\n",
    "                arr_lines_diff.append(line_num)\n",
    "            empty_file = False\n",
    "            line_num += 1\n",
    "        str_erro = \"\"\n",
    "        if len(arr_lines_diff):\n",
    "            str_erro += f\"As saidas diferem nas linhas: {len(arr_lines_diff)}; \"\n",
    "        if line_entregue or line_calculado:\n",
    "            str_erro += f\"O tamanho da saida entregue pelo aluno é diferente da saída obtida; \"\n",
    "        if empty_file:\n",
    "            str_erro += f\"O arquivo está vazio\"\n",
    "        if len(str_erro)>0:\n",
    "            saida.write(f\"ERRO: grupo: {num_grupo}. Erro: {str_erro} \\n\")\n",
    "        else:\n",
    "            saida.write(f\"OK: grupo: {num_grupo} \\n\")\n",
    "\n",
    "        return str_erro\n",
    "with open(saida_erros_resultado,\"w\") as saida:\n",
    "    str_file_result = \"../resultados/movies_2020/rodada_1/Guilherme Moreira de Carvalho_152931_assignsubmission_file_/predict_grupo_20.txt\"\n",
    "    str_resultado_obtido = \"../resultados/movies_2020/rodada_1_result_obtido/predict_grupo_20.txt\"\n",
    "    compare_result(20, str_file_result, str_resultado_obtido, saida)"
   ]
  },
  {
   "cell_type": "code",
   "execution_count": 22,
   "metadata": {},
   "outputs": [
    {
     "name": "stdout",
     "output_type": "stream",
     "text": [
      "Comparando resultados...21\n",
      "Comparando resultados...13\n",
      "Comparando resultados...4\n",
      "Comparando resultados...22\n",
      "Comparando resultados...12\n",
      "Comparando resultados...20\n",
      "Comparando resultados...14\n",
      "Comparando resultados...9\n",
      "Comparando resultados...11\n",
      "Comparando resultados...20\n",
      "Comparando resultados...11\n",
      "Comparando resultados...12\n",
      "Comparando resultados...14\n",
      "Comparando resultados...4\n",
      "Comparando resultados...18\n",
      "Comparando resultados...22\n",
      "Comparando resultados...9\n",
      "Comparando resultados...21\n"
     ]
    }
   ],
   "source": [
    "with open(f\"{end_saidas_alunos}/resultado_por_aluno.json\",\"r\") as resultado_alunos:\n",
    "    dic_resultado_por_aluno = json.load(resultado_alunos)\n",
    "with open(saida_erros_resultado,\"w\") as saida:\n",
    "    arr_files = os.listdir(end_saida_obtida)\n",
    "    for file in arr_files:\n",
    "            #print(f'Comparando resultados...{file.split(\".\")[0].split(\"_\")[-1]}')\n",
    "            num_grupo = file.split(\".\")[0].split(\"_\")[-1]\n",
    "            print(f'Comparando resultados...{num_grupo}')\n",
    "            compare_result(num_grupo, dic_resultado_por_aluno[num_grupo], str_resultado_obtido, saida)"
   ]
  },
  {
   "cell_type": "code",
   "execution_count": 48,
   "metadata": {},
   "outputs": [
    {
     "name": "stdout",
     "output_type": "stream",
     "text": [
      "ARQUIVO AQUI: ../resultados/movies_2020/rodada_1_solucoes.zip Salvo em: /tmp/a08897a0-e964-11ea-b1d2-6036dd5e6b4f\n",
      "Entregaram o reesultado (fase 3) mas nao a solução (fase 2): {19}\n",
      "Entregaram a solução (fase 2) mas nao o resultado (fase 3): {8, 10}\n"
     ]
    }
   ],
   "source": [
    "set_grupo_fase_2 = set()\n",
    "set_grupo_fase_3 = set()\n",
    "#fase 2\n",
    "with open(end_arquivo_solucoes, \"rb\") as file_pointer:\n",
    "    moodle = MoodleHandin(file_pointer)\n",
    "    \n",
    "    temp_dir_uncompressed = tempfile.gettempdir()+\"/\"+str(uuid.uuid1())\n",
    "    os.makedirs(temp_dir_uncompressed)\n",
    "    \n",
    "    dic_resultao_fase_2 = moodle.dictPathPorAluno\n",
    "    \n",
    "    #tem o resultado, mas nao tem a entrega\n",
    "    for aluno,path in moodle.dictPathPorAluno.items():\n",
    "        if not os.path.isdir(path):\n",
    "            continue\n",
    "        num_grupo = int(path.split(\"/\")[-1].split(\"_\")[1][5:])\n",
    "        set_grupo_fase_2.add(num_grupo)\n",
    "#fase 3\n",
    "set_grupo_fase_3 = set(dic_resultado_por_aluno.keys())\n",
    "\n",
    "print(f\"Entregaram o reesultado (fase 3) mas nao a solução (fase 2): {set_grupo_fase_3-set_grupo_fase_2}\")\n",
    "print(f\"Entregaram a solução (fase 2) mas nao o resultado (fase 3): {set_grupo_fase_2-set_grupo_fase_3}\")"
   ]
  },
  {
   "cell_type": "code",
   "execution_count": 47,
   "metadata": {},
   "outputs": [
    {
     "data": {
      "text/plain": [
       "dict_keys([13, 4, 14, 18, 9, 12, 20, 21, 11, 19, 22])"
      ]
     },
     "execution_count": 47,
     "metadata": {},
     "output_type": "execute_result"
    }
   ],
   "source": []
  }
 ],
 "metadata": {
  "kernelspec": {
   "display_name": "Python 3",
   "language": "python",
   "name": "python3"
  },
  "language_info": {
   "codemirror_mode": {
    "name": "ipython",
    "version": 3
   },
   "file_extension": ".py",
   "mimetype": "text/x-python",
   "name": "python",
   "nbconvert_exporter": "python",
   "pygments_lexer": "ipython3",
   "version": "3.6.9"
  }
 },
 "nbformat": 4,
 "nbformat_minor": 2
}
